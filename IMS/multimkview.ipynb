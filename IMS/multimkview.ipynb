{
 "cells": [
  {
   "cell_type": "markdown",
   "id": "bfe2a91c-4ae3-4712-a362-6ea4e1bd7687",
   "metadata": {},
   "source": [
    "# IMS combi and movie maker"
   ]
  },
  {
   "cell_type": "code",
   "execution_count": null,
   "id": "ae8eef7d-8c19-4cd8-9591-b946c970c5f4",
   "metadata": {},
   "outputs": [],
   "source": [
    "Copyright or © or Copr.  Bernard Legras (2022)\n",
    "under CeCILL-C license \"http://www.cecill.info\".\n",
    "\n",
    "bernard.legras@lmd.ipsl.fr"
   ]
  },
  {
   "cell_type": "markdown",
   "id": "a99d5ba5-b730-469b-be3e-b38d0a6727ff",
   "metadata": {},
   "source": [
    "This notebook produces the combined SA N + D views of the IMS/IASI product and makes a movie of the series of images"
   ]
  },
  {
   "cell_type": "markdown",
   "id": "6726b1ed-71fa-41eb-b0d1-95e11e79fdc7",
   "metadata": {},
   "source": [
    "## Initialisation"
   ]
  },
  {
   "cell_type": "code",
   "execution_count": 2,
   "id": "e018b1cb-c5a0-4aef-b8d0-b8f638918f16",
   "metadata": {},
   "outputs": [],
   "source": [
    "import IMS\n",
    "from datetime import date, timedelta, datetime\n",
    "from matplotlib import pyplot as plt\n",
    "import os\n",
    "import cartopy.crs as ccrs\n",
    "import gzip, pickle\n",
    "from matplotlib.patches import Rectangle"
   ]
  },
  {
   "cell_type": "code",
   "execution_count": 3,
   "id": "3c1b3a95-44aa-4c33-b63a-867b0d4f32ca",
   "metadata": {},
   "outputs": [],
   "source": [
    "# Read the Metop-B crossings from IXION\n",
    "with gzip.open('Metop-B_xings.pkl','rb') as f:\n",
    "    xings = pickle.load(f)"
   ]
  },
  {
   "cell_type": "markdown",
   "id": "fbecd51e-4160-4cde-8025-091fc80db449",
   "metadata": {},
   "source": [
    "## Production of the combined SA N + D images with a strip showing the orbit times  "
   ]
  },
  {
   "cell_type": "code",
   "execution_count": null,
   "id": "e0f176b0-47d9-43ae-9a3f-cbd58b3e7a4b",
   "metadata": {},
   "outputs": [],
   "source": [
    "day0 = date(2022,1,13)\n",
    "day1 = date(2022,4,30)\n",
    "day = day0\n",
    "# loop on days\n",
    "while day <= day1:\n",
    "    # read the IMS data\n",
    "    try:\n",
    "        dat = IMS.IMS(day)\n",
    "        dat.read('SA','N')\n",
    "        dat.read('SA','D')\n",
    "    except:\n",
    "        print('missing IMS data for',day)\n",
    "        day += timedelta(days=1)\n",
    "        continue\n",
    "    # rescale maximum after the cut in IMS data\n",
    "    if day < date(2022,3,14): vmax= 0.03\n",
    "    else: vmax = 0.02\n",
    "    # Get list of crossings for that day\n",
    "    dd = datetime(day.year,day.month,day.day)\n",
    "    Dxings = xings['D'][dd]\n",
    "    Nxings = xings['N'][dd]\n",
    "    # Generate figure framework\n",
    "    fig = plt.figure(figsize=(12,5.25))\n",
    "    gs = fig.add_gridspec(2,1)\n",
    "    \n",
    "    # Make axis for day part\n",
    "    axD = fig.add_subplot(gs[0],projection=ccrs.PlateCarree())\n",
    "    # Plot the image using IMS package\n",
    "    imD = dat.show('SA_D',axf=axD,txt='',vmin=0.002,vmax=vmax,ylims=(-40,10),log=True,cmap=IMS.cmap3,show=False)\n",
    "    # Make the background of the information strip\n",
    "    axD.add_patch(Rectangle((-190,12),380,20,linewidth=1,edgecolor=None,facecolor='burlywood',clip_on=False))\n",
    "    # Put the title in the strip\n",
    "    axD.annotate(\n",
    "        day.strftime('IMS/IASI SA OD       %d %B %Y       descending day orbits               \\xA9 RAL & CNRS'),\n",
    "        (-90,25),annotation_clip=False)\n",
    "    # Add the times at which each orbit is crossing the equator\n",
    "    lD = len(Dxings)\n",
    "    for i in range(lD):\n",
    "        hours = Dxings[i][0].seconds // 3600\n",
    "        minutes = Dxings[i][0].seconds // 60 - 60 * hours\n",
    "        # This complication is made to avoid overlaps of strings in the strip when the first and the last swaths of the day overlap\n",
    "        offset = 0\n",
    "        color = 'k'\n",
    "        if lD == 15:\n",
    "            if i == 0: \n",
    "                offset = -5\n",
    "                color = 'red'\n",
    "            if i == 14: offset = 5\n",
    "        axD.annotate('{:02d}:{:02d}'.format(hours,minutes),(Dxings[i][1]-5+offset,15),color = color,annotation_clip=False)\n",
    "\n",
    "    # Make axis for the night part (same as for the day part)\n",
    "    axN = fig.add_subplot(gs[1],projection=ccrs.PlateCarree())\n",
    "    imN = dat.show('SA_N',axf=axN,txt='',vmin=0.002,vmax=vmax,ylims=(-40,10),log=True,cmap=IMS.cmap3,show=False)\n",
    "    axN.add_patch(Rectangle((-190,12),380,20,linewidth=1,edgecolor=None,facecolor='burlywood',clip_on=False))\n",
    "    axN.annotate(\n",
    "        day.strftime('IMS/IASI SA OD       %d %B %Y        ascending night orbits             \\xA9 RAL & CNRS'),(-90,25),annotation_clip=False)\n",
    "    lN = len(Nxings)\n",
    "    for i in range(lN):\n",
    "        hours = Nxings[i][0].seconds // 3600\n",
    "        minutes = Nxings[i][0].seconds // 60 - 60 * hours\n",
    "        offset = 0\n",
    "        color = 'k'\n",
    "        if lN == 15:\n",
    "            if i == 0: \n",
    "                offset = -5\n",
    "                color = 'red'\n",
    "            if i == 14: offset = 5\n",
    "        axN.annotate('{:02d}:{:02d}'.format(hours,minutes),(Nxings[i][1]-10+offset,15),color = color,annotation_clip=False)\n",
    "          \n",
    "    cbar_ax = fig.add_axes([0.93,0.2,0.01,0.6])\n",
    "    if vmax == 0.03:\n",
    "        cbar1 = fig.colorbar(imN,cax=cbar_ax,orientation='vertical',ticks=[2e-3,5e-3,1e-2,2e-2,3e-2])\n",
    "        cbar1.ax.set_yticklabels([u'2 10$^{-3}$',u'5 10$^{-3}$',u'10$^{-2}$',u'2 10$^{-2}$',u'3 10$^{-2}$'])\n",
    "    else:\n",
    "        # colorbar wants to label 3, 4 & 6 x e-3 that we do not want. Hence to complication to mute it\n",
    "        cbar2 = fig.colorbar(imN,cax=cbar_ax,orientation='vertical',ticks=[2e-3,3e-3,4e-3,5e-3,6e-3,1e-2,2e-2])\n",
    "        cbar2.ax.set_yticklabels([u'2 10$^{-3}$','','',u'5 10$^{-3}$','',u'10$^{-2}$',u'2 10$^{-2}$'])\n",
    "    plt.savefig(os.path.join('SA-combi',day.strftime('IMS-SAOD-%Y-%m-%d.png')),dpi=144,bbox_inches='tight')\n",
    "    #plt.show()\n",
    "    plt.close('all')                 \n",
    "    print(day)\n",
    " \n",
    "    day += timedelta(days=1)"
   ]
  },
  {
   "cell_type": "markdown",
   "id": "3432252e-98e2-4565-9594-876523c4f931",
   "metadata": {},
   "source": [
    "## Production of the movie"
   ]
  },
  {
   "cell_type": "code",
   "execution_count": null,
   "id": "944c5666-682e-4a4d-9369-c6d2e5f8ba71",
   "metadata": {},
   "outputs": [],
   "source": [
    "import imageio\n",
    "from PIL import Image\n",
    "images = []\n",
    "\n",
    "day0 = date(2022,1,13)\n",
    "day1 = date(2022,4,30)\n",
    "day = day0\n",
    "# loop on days\n",
    "while day <= day1:\n",
    "    try:\n",
    "        #im = imageio.imread(os.path.join('SA-combi',day.strftime('IMS-SAOD-%Y-%m-%d.jpg')))\n",
    "        im = Image.open(os.path.join('SA-combi',day.strftime('IMS-SAOD-%Y-%m-%d.png')))\n",
    "    except:\n",
    "        print('no image for',day)\n",
    "    else:\n",
    "        print(day,im.size)\n",
    "        # paste into an image with suitable size for viewers with number of pixels as multiples of 16\n",
    "        cc= Image.new('RGB',size=(1584,640),color=(255,255,255))\n",
    "        cc.paste(im,(8,4))\n",
    "        images.append(cc)\n",
    "    day += timedelta(days=1)\n",
    "\n",
    "imageio.mimsave('movie-SAOD.gif', images,fps=2)\n",
    "imageio.mimsave('movie-SAOD.mp4', images,fps=2)\n"
   ]
  },
  {
   "cell_type": "code",
   "execution_count": null,
   "id": "aab72fc8-b122-4824-920b-f84f19250433",
   "metadata": {},
   "outputs": [],
   "source": []
  }
 ],
 "metadata": {
  "kernelspec": {
   "display_name": "p39",
   "language": "python",
   "name": "p39"
  },
  "language_info": {
   "codemirror_mode": {
    "name": "ipython",
    "version": 3
   },
   "file_extension": ".py",
   "mimetype": "text/x-python",
   "name": "python",
   "nbconvert_exporter": "python",
   "pygments_lexer": "ipython3",
   "version": "3.9.12"
  }
 },
 "nbformat": 4,
 "nbformat_minor": 5
}
